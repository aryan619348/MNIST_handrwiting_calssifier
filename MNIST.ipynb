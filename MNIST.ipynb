{
  "nbformat": 4,
  "nbformat_minor": 0,
  "metadata": {
    "colab": {
      "name": "MNIST.ipynb",
      "provenance": [],
      "collapsed_sections": [],
      "authorship_tag": "ABX9TyODySeXVKnICPjXUNyXFKN6",
      "include_colab_link": true
    },
    "kernelspec": {
      "name": "python3",
      "display_name": "Python 3"
    },
    "language_info": {
      "name": "python"
    }
  },
  "cells": [
    {
      "cell_type": "markdown",
      "metadata": {
        "id": "view-in-github",
        "colab_type": "text"
      },
      "source": [
        "<a href=\"https://colab.research.google.com/github/aryan619348/MNIST_handrwiting_calssifier/blob/main/MNIST.ipynb\" target=\"_parent\"><img src=\"https://colab.research.google.com/assets/colab-badge.svg\" alt=\"Open In Colab\"/></a>"
      ]
    },
    {
      "cell_type": "code",
      "source": [
        "!pip install tensorflowjs"
      ],
      "metadata": {
        "id": "i3ong37w_ZL3"
      },
      "execution_count": null,
      "outputs": []
    },
    {
      "cell_type": "code",
      "source": [
        "import tensorflow as tf\n",
        "import numpy as np\n",
        "import matplotlib.pyplot as plt\n",
        "from tensorflow.keras.datasets import mnist"
      ],
      "metadata": {
        "id": "GDNAEIEXqENx"
      },
      "execution_count": 1,
      "outputs": []
    },
    {
      "cell_type": "code",
      "source": [
        "#one hot encoding the MNIST data set\n",
        "from tensorflow.keras.utils import to_categorical, normalize\n",
        "(x_train, y_train),(x_test, y_test) = mnist.load_data()\n",
        "y_train = to_categorical(y_train)\n",
        "y_test = to_categorical(y_test)\n",
        "#normalize input\n",
        "x_train =normalize(x_train)\n",
        "x_test =normalize(x_test)"
      ],
      "metadata": {
        "id": "WJAxM-VFqXGg",
        "colab": {
          "base_uri": "https://localhost:8080/"
        },
        "outputId": "f900ffa7-5120-4652-e6ff-c59670f97d2b"
      },
      "execution_count": 2,
      "outputs": [
        {
          "output_type": "stream",
          "name": "stdout",
          "text": [
            "Downloading data from https://storage.googleapis.com/tensorflow/tf-keras-datasets/mnist.npz\n",
            "11493376/11490434 [==============================] - 0s 0us/step\n",
            "11501568/11490434 [==============================] - 0s 0us/step\n"
          ]
        }
      ]
    },
    {
      "cell_type": "code",
      "execution_count": 16,
      "metadata": {
        "id": "w6vA4yT8j3z4",
        "colab": {
          "base_uri": "https://localhost:8080/"
        },
        "outputId": "f612a554-ea0c-4e86-acd5-441fd0e84c91"
      },
      "outputs": [
        {
          "output_type": "stream",
          "name": "stdout",
          "text": [
            "TRAINING DATA\n",
            "Epoch 1/15\n",
            "1875/1875 [==============================] - 26s 13ms/step - loss: 0.2413 - accuracy: 0.9277\n",
            "Epoch 2/15\n",
            "1875/1875 [==============================] - 25s 14ms/step - loss: 0.0773 - accuracy: 0.9758\n",
            "Epoch 3/15\n",
            "1875/1875 [==============================] - 26s 14ms/step - loss: 0.0567 - accuracy: 0.9822\n",
            "Epoch 4/15\n",
            "1875/1875 [==============================] - 26s 14ms/step - loss: 0.0460 - accuracy: 0.9862\n",
            "Epoch 5/15\n",
            "1875/1875 [==============================] - 25s 13ms/step - loss: 0.0358 - accuracy: 0.9889\n",
            "Epoch 6/15\n",
            "1873/1875 [============================>.] - ETA: 0s - loss: 0.0301 - accuracy: 0.9904\n",
            "Reached 99% accuracy so cancelling training!\n",
            "1875/1875 [==============================] - 25s 13ms/step - loss: 0.0301 - accuracy: 0.9904\n",
            "TESTING DATA\n",
            "313/313 [==============================] - 2s 6ms/step - loss: 0.0378 - accuracy: 0.9874\n"
          ]
        },
        {
          "output_type": "execute_result",
          "data": {
            "text/plain": [
              "[0.03782552108168602, 0.9873999953269958]"
            ]
          },
          "metadata": {},
          "execution_count": 16
        }
      ],
      "source": [
        "from tensorflow.keras import layers\n",
        "class myCallback(tf.keras.callbacks.Callback):\n",
        "  def on_epoch_end(self, epoch, logs={}):\n",
        "    if(logs.get('accuracy')>0.99 and logs.get('accuracy')is not None):\n",
        "      print(\"\\nReached 99% accuracy so cancelling training!\")\n",
        "      self.model.stop_training=True\n",
        "\n",
        "callbacks=myCallback()\n",
        "\n",
        "model = tf.keras.models.Sequential()\n",
        "model.add(layers.Convolution2D(input_shape=(28, 28, 1), kernel_size= 3, filters= 8, activation= 'relu'));\n",
        "model.add(layers.MaxPooling2D(pool_size= (2, 2)));\n",
        "model.add(layers.Convolution2D(filters= 16, kernel_size= 3, activation= 'relu'));\n",
        "model.add(layers.MaxPooling2D(pool_size= (2, 2)));\n",
        "model.add(layers.Flatten());\n",
        "model.add(layers.Dense(units= 128, activation= 'relu'));\n",
        "model.add(layers.Dense(units= 10, activation= 'softmax'));\n",
        "model.compile(optimizer='adam',\n",
        "              loss='categorical_crossentropy',\n",
        "              metrics=['accuracy'])\n",
        "print(\"TRAINING DATA\")\n",
        "history = model.fit(x_train,y_train,epochs=15,callbacks=[callbacks])\n",
        "print(\"TESTING DATA\")\n",
        "model.evaluate(x_test, y_test)"
      ]
    },
    {
      "cell_type": "code",
      "source": [
        "model.summary()"
      ],
      "metadata": {
        "colab": {
          "base_uri": "https://localhost:8080/"
        },
        "id": "gyac_IUysc1s",
        "outputId": "3eb8cfae-8e1e-44f8-dd8b-8236faa23585"
      },
      "execution_count": 17,
      "outputs": [
        {
          "output_type": "stream",
          "name": "stdout",
          "text": [
            "Model: \"sequential_12\"\n",
            "_________________________________________________________________\n",
            " Layer (type)                Output Shape              Param #   \n",
            "=================================================================\n",
            " conv2d_9 (Conv2D)           (None, 26, 26, 8)         80        \n",
            "                                                                 \n",
            " max_pooling2d_6 (MaxPooling  (None, 13, 13, 8)        0         \n",
            " 2D)                                                             \n",
            "                                                                 \n",
            " conv2d_10 (Conv2D)          (None, 11, 11, 16)        1168      \n",
            "                                                                 \n",
            " max_pooling2d_7 (MaxPooling  (None, 5, 5, 16)         0         \n",
            " 2D)                                                             \n",
            "                                                                 \n",
            " flatten_1 (Flatten)         (None, 400)               0         \n",
            "                                                                 \n",
            " dense (Dense)               (None, 128)               51328     \n",
            "                                                                 \n",
            " dense_1 (Dense)             (None, 10)                1290      \n",
            "                                                                 \n",
            "=================================================================\n",
            "Total params: 53,866\n",
            "Trainable params: 53,866\n",
            "Non-trainable params: 0\n",
            "_________________________________________________________________\n"
          ]
        }
      ]
    },
    {
      "cell_type": "markdown",
      "source": [
        "Converting the model to tensorflow.js format"
      ],
      "metadata": {
        "id": "gbZA5jCcBQmN"
      }
    },
    {
      "cell_type": "code",
      "source": [
        "from google.colab import files\n",
        "import tensorflowjs as tfjs\n",
        "model.save('MNIST.h5')\n",
        "!mkdir model\n",
        "!tensorflowjs_converter --input_format keras MNIST.h5 model/\n",
        "!zip -r model.zip model \n",
        "files.download('model.zip')"
      ],
      "metadata": {
        "colab": {
          "base_uri": "https://localhost:8080/",
          "height": 69
        },
        "id": "4vn4mQOlNhSJ",
        "outputId": "82161104-b537-472b-c5d3-5c42d464dd91"
      },
      "execution_count": 20,
      "outputs": [
        {
          "output_type": "stream",
          "name": "stdout",
          "text": [
            "  adding: model/ (stored 0%)\n",
            "  adding: model/group1-shard1of1.bin (deflated 7%)\n",
            "  adding: model/model.json (deflated 78%)\n"
          ]
        },
        {
          "output_type": "display_data",
          "data": {
            "application/javascript": [
              "\n",
              "    async function download(id, filename, size) {\n",
              "      if (!google.colab.kernel.accessAllowed) {\n",
              "        return;\n",
              "      }\n",
              "      const div = document.createElement('div');\n",
              "      const label = document.createElement('label');\n",
              "      label.textContent = `Downloading \"${filename}\": `;\n",
              "      div.appendChild(label);\n",
              "      const progress = document.createElement('progress');\n",
              "      progress.max = size;\n",
              "      div.appendChild(progress);\n",
              "      document.body.appendChild(div);\n",
              "\n",
              "      const buffers = [];\n",
              "      let downloaded = 0;\n",
              "\n",
              "      const channel = await google.colab.kernel.comms.open(id);\n",
              "      // Send a message to notify the kernel that we're ready.\n",
              "      channel.send({})\n",
              "\n",
              "      for await (const message of channel.messages) {\n",
              "        // Send a message to notify the kernel that we're ready.\n",
              "        channel.send({})\n",
              "        if (message.buffers) {\n",
              "          for (const buffer of message.buffers) {\n",
              "            buffers.push(buffer);\n",
              "            downloaded += buffer.byteLength;\n",
              "            progress.value = downloaded;\n",
              "          }\n",
              "        }\n",
              "      }\n",
              "      const blob = new Blob(buffers, {type: 'application/binary'});\n",
              "      const a = document.createElement('a');\n",
              "      a.href = window.URL.createObjectURL(blob);\n",
              "      a.download = filename;\n",
              "      div.appendChild(a);\n",
              "      a.click();\n",
              "      div.remove();\n",
              "    }\n",
              "  "
            ],
            "text/plain": [
              "<IPython.core.display.Javascript object>"
            ]
          },
          "metadata": {}
        },
        {
          "output_type": "display_data",
          "data": {
            "application/javascript": [
              "download(\"download_c36fceac-a9b7-4311-bbcf-4a4c3f0a32cc\", \"model.zip\", 201434)"
            ],
            "text/plain": [
              "<IPython.core.display.Javascript object>"
            ]
          },
          "metadata": {}
        }
      ]
    }
  ]
}